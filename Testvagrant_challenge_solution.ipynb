{
 "cells": [
  {
   "cell_type": "markdown",
   "id": "334d0003",
   "metadata": {},
   "source": [
    "# PROBLEM TO SOLVE\n",
    "1. Create a small data structure that holds details - Name of the team, points they have\n",
    "earned and result of last 5 matches as per above image\n",
    "2. Programmatically retrieve the teams that have 2 consecutive losses.\n",
    "3. Generalize the same solution, so that we could get teams that have n consecutive\n",
    "losses/wins.\n",
    "4. Once the above is done, Calculate the average points of these filtered teams\n"
   ]
  },
  {
   "cell_type": "code",
   "execution_count": 29,
   "id": "7b5f71ce",
   "metadata": {},
   "outputs": [],
   "source": [
    "teams_points_details={\n",
    "   'GT':['GT',20,['W','W','L','L','W']]\n",
    "    \n",
    "   ,'LSG':['LSG',18,['W','L','L','W','W']]\n",
    "    \n",
    "   ,'RR':['RR',16,['W','L','W','L','L']]\n",
    "    \n",
    "    ,'DC':['DC',14,['W','W','L','W','L']]\n",
    "    \n",
    "    ,'RCB':['RCB',14,['L','W','W','L','L']]\n",
    "    \n",
    "    ,'KKR':['KKR',12,['L','W','W','L','W']]\n",
    "    \n",
    "    ,'PBKS':['PBKS',12,['L','W','L','W','L']]\n",
    "    \n",
    "    ,'SRH':['SRH',12,['W','L','L','L','L']]\n",
    "    \n",
    "    ,'CSK':['CSK',8,['L','L','W','L','W']]\n",
    "    \n",
    "    ,'MI':['MI',6,['L','W','L','W','W']]\n",
    "}"
   ]
  },
  {
   "cell_type": "code",
   "execution_count": 31,
   "id": "3b936bb3",
   "metadata": {},
   "outputs": [
    {
     "name": "stdout",
     "output_type": "stream",
     "text": [
      "GT\n",
      "LSG\n",
      "RR\n",
      "RCB\n",
      "SRH\n",
      "CSK\n"
     ]
    }
   ],
   "source": [
    "def two_losses(team): \n",
    "    for result in range(len(team[-1])-1):  \n",
    "        if team[-1][result]==team[-1][result+1] and team[-1][result]=='L':    \n",
    "            return team[0]\n",
    "        \n",
    "        \n",
    "for team in teams_points_details.keys():\n",
    "    get_team=two_losses(teams_points_details[team])\n",
    "    if get_team is not None:\n",
    "        print(get_team)"
   ]
  },
  {
   "cell_type": "markdown",
   "id": "a4a7dcf1",
   "metadata": {},
   "source": [
    "# Generalizing the solution, so that we could get teams that have n consecutive losses/wins.\n"
   ]
  },
  {
   "cell_type": "code",
   "execution_count": 22,
   "id": "4deccefd",
   "metadata": {},
   "outputs": [],
   "source": [
    "# create a function that returns a team having n consecutive losses or wins\n",
    "\n",
    "\n",
    "def team_n_losses_or_wins(team,n):\n",
    "    for i in range(len(team[-1])-n+1):\n",
    "        if (team[-1][i:i+n]==['W']*n) or (team[-1][i:i+n]==['L']*n) :\n",
    "            return team[0]  "
   ]
  },
  {
   "cell_type": "code",
   "execution_count": 23,
   "id": "bf134a7d",
   "metadata": {},
   "outputs": [
    {
     "name": "stdout",
     "output_type": "stream",
     "text": [
      "GT\n",
      "LSG\n",
      "RR\n",
      "DC\n",
      "RCB\n",
      "KKR\n",
      "SRH\n",
      "CSK\n",
      "MI\n"
     ]
    }
   ],
   "source": [
    "# iterating using for loop to get all the teams having n consecutive losses or wins\n",
    "\n",
    "\n",
    "filtered_teams=[]\n",
    "for team in teams_points_details.keys():\n",
    "    x=team_n_losses_or_wins(teams_points_details[team],n)\n",
    "    if x is not None:\n",
    "        filtered_teams.append(x)\n",
    "        print(x)    "
   ]
  },
  {
   "cell_type": "code",
   "execution_count": 10,
   "id": "657a75e6",
   "metadata": {},
   "outputs": [
    {
     "name": "stdout",
     "output_type": "stream",
     "text": [
      "['GT', 'LSG', 'RR', 'DC', 'RCB', 'KKR', 'SRH', 'CSK', 'MI']\n",
      "13.333333333333334\n"
     ]
    }
   ],
   "source": [
    "print(filtered_teams)\n",
    "\n",
    "\n",
    "# Average points of these filtered teams\n",
    "\n",
    "\n",
    "sum_of_points=0\n",
    "for team in filtered_teams:\n",
    "    sum_of_points+=teams_points_details[team][1]\n",
    "average_points=sum_of_points/len(filtered_teams)\n",
    "print(average_points)"
   ]
  },
  {
   "cell_type": "code",
   "execution_count": null,
   "id": "37824b58",
   "metadata": {},
   "outputs": [],
   "source": []
  }
 ],
 "metadata": {
  "kernelspec": {
   "display_name": "Python 3",
   "language": "python",
   "name": "python3"
  },
  "language_info": {
   "codemirror_mode": {
    "name": "ipython",
    "version": 3
   },
   "file_extension": ".py",
   "mimetype": "text/x-python",
   "name": "python",
   "nbconvert_exporter": "python",
   "pygments_lexer": "ipython3",
   "version": "3.8.8"
  }
 },
 "nbformat": 4,
 "nbformat_minor": 5
}
